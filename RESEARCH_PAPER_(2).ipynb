{
  "nbformat": 4,
  "nbformat_minor": 0,
  "metadata": {
    "colab": {
      "provenance": [],
      "authorship_tag": "ABX9TyMPv2O4LFvM4KI6Q8t95Xfv",
      "include_colab_link": true
    },
    "kernelspec": {
      "name": "python3",
      "display_name": "Python 3"
    },
    "language_info": {
      "name": "python"
    }
  },
  "cells": [
    {
      "cell_type": "markdown",
      "metadata": {
        "id": "view-in-github",
        "colab_type": "text"
      },
      "source": [
        "<a href=\"https://colab.research.google.com/github/Aggarwal13/ML_MODELS/blob/main/RESEARCH_PAPER_(2).ipynb\" target=\"_parent\"><img src=\"https://colab.research.google.com/assets/colab-badge.svg\" alt=\"Open In Colab\"/></a>"
      ]
    },
    {
      "cell_type": "code",
      "execution_count": 15,
      "metadata": {
        "id": "Mm2plTXenSWd"
      },
      "outputs": [],
      "source": [
        "#Importing Libraries\n",
        "import numpy as np\n",
        "import pandas as pd\n",
        "from sklearn.tree import DecisionTreeClassifier\n",
        "from sklearn.neighbors import KNeighborsClassifier\n",
        "from sklearn import model_selection\n",
        "from sklearn.ensemble import BaggingClassifier"
      ]
    },
    {
      "cell_type": "code",
      "source": [
        "df=pd.read_csv(\"earth.csv\")"
      ],
      "metadata": {
        "id": "78kdn5ipqfKD"
      },
      "execution_count": 2,
      "outputs": []
    },
    {
      "cell_type": "code",
      "source": [
        "df"
      ],
      "metadata": {
        "colab": {
          "base_uri": "https://localhost:8080/",
          "height": 1000
        },
        "id": "63FZuewfqfNH",
        "outputId": "e0d1d0fd-2c12-4a74-9d87-1ebc2b5e4806"
      },
      "execution_count": 3,
      "outputs": [
        {
          "output_type": "execute_result",
          "data": {
            "text/plain": [
              "                                         title  magnitude         date_time  \\\n",
              "0             M 6.5 - 42 km W of Sola, Vanuatu        6.5  16-08-2023 12:47   \n",
              "1     M 6.5 - 43 km S of Intipucá, El Salvador        6.5  19-07-2023 00:22   \n",
              "2     M 6.6 - 25 km ESE of Loncopué, Argentina        6.6  17-07-2023 03:05   \n",
              "3        M 7.2 - 98 km S of Sand Point, Alaska        7.2  16-07-2023 06:48   \n",
              "4                     M 7.3 - Alaska Peninsula        7.3  16-07-2023 06:48   \n",
              "..                                         ...        ...               ...   \n",
              "995          M 7.1 - 85 km S of Tungor, Russia        7.1  27-05-1995 13:03   \n",
              "996     M 7.7 - 249 km E of Vao, New Caledonia        7.7  16-05-1995 20:12   \n",
              "997  M 6.9 - 27 km NNW of Maubara, Timor Leste        6.9  14-05-1995 11:33   \n",
              "998           M 6.6 - 10 km W of Aianí, Greece        6.6  13-05-1995 08:47   \n",
              "999  M 7.1 - 14 km NE of Cabatuan, Philippines        7.1  05-05-1995 03:53   \n",
              "\n",
              "     cdi  mmi   alert  tsunami  sig net  nst      dmin    gap magType  \\\n",
              "0      7    4   green        0  657  us  114  7.177000   25.0     mww   \n",
              "1      8    6  yellow        0  775  us   92  0.679000   40.0     mww   \n",
              "2      7    5   green        0  899  us   70  1.634000   28.0     mww   \n",
              "3      6    6   green        1  860  us  173  0.907000   36.0     mww   \n",
              "4      0    5     NaN        1  820  at   79  0.879451  172.8      Mi   \n",
              "..   ...  ...     ...      ...  ...  ..  ...       ...    ...     ...   \n",
              "995    0    9     NaN        0  776  us    0  0.000000    0.0     mwb   \n",
              "996    0    4     NaN        0  912  us    0  0.000000    0.0      mw   \n",
              "997    0    6     NaN        0  732  us    0  0.000000    0.0      mw   \n",
              "998    0    9     NaN        0  670  us    0  0.000000    0.0      mw   \n",
              "999    0    7     NaN        0  776  us    0  0.000000    0.0      mw   \n",
              "\n",
              "       depth  latitude  longitude               location      continent  \\\n",
              "0    192.955  -13.8814   167.1580          Sola, Vanuatu            NaN   \n",
              "1     69.727   12.8140   -88.1265  Intipucá, El Salvador            NaN   \n",
              "2    171.371  -38.1911   -70.3731    Loncopué, Argentina  South America   \n",
              "3     32.571   54.3844  -160.6990     Sand Point, Alaska            NaN   \n",
              "4     21.000   54.4900  -160.7960       Alaska Peninsula            NaN   \n",
              "..       ...       ...        ...                    ...            ...   \n",
              "995   11.000   52.6290   142.8270         Tungor, Russia           Asia   \n",
              "996   20.200  -23.0080   169.9000     Vao, New Caledonia            NaN   \n",
              "997   11.200   -8.3780   125.1270   Maubara, Timor Leste            NaN   \n",
              "998   14.000   40.1490    21.6950          Aianí, Greece         Europe   \n",
              "999   16.000   12.6260   125.2970  Cabatuan, Philippines            NaN   \n",
              "\n",
              "         country  \n",
              "0        Vanuatu  \n",
              "1            NaN  \n",
              "2      Argentina  \n",
              "3            NaN  \n",
              "4            NaN  \n",
              "..           ...  \n",
              "995       Russia  \n",
              "996          NaN  \n",
              "997    Indonesia  \n",
              "998       Greece  \n",
              "999  Philippines  \n",
              "\n",
              "[1000 rows x 19 columns]"
            ],
            "text/html": [
              "\n",
              "  <div id=\"df-4a1e5443-617e-4e28-87df-1e5672deb0be\" class=\"colab-df-container\">\n",
              "    <div>\n",
              "<style scoped>\n",
              "    .dataframe tbody tr th:only-of-type {\n",
              "        vertical-align: middle;\n",
              "    }\n",
              "\n",
              "    .dataframe tbody tr th {\n",
              "        vertical-align: top;\n",
              "    }\n",
              "\n",
              "    .dataframe thead th {\n",
              "        text-align: right;\n",
              "    }\n",
              "</style>\n",
              "<table border=\"1\" class=\"dataframe\">\n",
              "  <thead>\n",
              "    <tr style=\"text-align: right;\">\n",
              "      <th></th>\n",
              "      <th>title</th>\n",
              "      <th>magnitude</th>\n",
              "      <th>date_time</th>\n",
              "      <th>cdi</th>\n",
              "      <th>mmi</th>\n",
              "      <th>alert</th>\n",
              "      <th>tsunami</th>\n",
              "      <th>sig</th>\n",
              "      <th>net</th>\n",
              "      <th>nst</th>\n",
              "      <th>dmin</th>\n",
              "      <th>gap</th>\n",
              "      <th>magType</th>\n",
              "      <th>depth</th>\n",
              "      <th>latitude</th>\n",
              "      <th>longitude</th>\n",
              "      <th>location</th>\n",
              "      <th>continent</th>\n",
              "      <th>country</th>\n",
              "    </tr>\n",
              "  </thead>\n",
              "  <tbody>\n",
              "    <tr>\n",
              "      <th>0</th>\n",
              "      <td>M 6.5 - 42 km W of Sola, Vanuatu</td>\n",
              "      <td>6.5</td>\n",
              "      <td>16-08-2023 12:47</td>\n",
              "      <td>7</td>\n",
              "      <td>4</td>\n",
              "      <td>green</td>\n",
              "      <td>0</td>\n",
              "      <td>657</td>\n",
              "      <td>us</td>\n",
              "      <td>114</td>\n",
              "      <td>7.177000</td>\n",
              "      <td>25.0</td>\n",
              "      <td>mww</td>\n",
              "      <td>192.955</td>\n",
              "      <td>-13.8814</td>\n",
              "      <td>167.1580</td>\n",
              "      <td>Sola, Vanuatu</td>\n",
              "      <td>NaN</td>\n",
              "      <td>Vanuatu</td>\n",
              "    </tr>\n",
              "    <tr>\n",
              "      <th>1</th>\n",
              "      <td>M 6.5 - 43 km S of Intipucá, El Salvador</td>\n",
              "      <td>6.5</td>\n",
              "      <td>19-07-2023 00:22</td>\n",
              "      <td>8</td>\n",
              "      <td>6</td>\n",
              "      <td>yellow</td>\n",
              "      <td>0</td>\n",
              "      <td>775</td>\n",
              "      <td>us</td>\n",
              "      <td>92</td>\n",
              "      <td>0.679000</td>\n",
              "      <td>40.0</td>\n",
              "      <td>mww</td>\n",
              "      <td>69.727</td>\n",
              "      <td>12.8140</td>\n",
              "      <td>-88.1265</td>\n",
              "      <td>Intipucá, El Salvador</td>\n",
              "      <td>NaN</td>\n",
              "      <td>NaN</td>\n",
              "    </tr>\n",
              "    <tr>\n",
              "      <th>2</th>\n",
              "      <td>M 6.6 - 25 km ESE of Loncopué, Argentina</td>\n",
              "      <td>6.6</td>\n",
              "      <td>17-07-2023 03:05</td>\n",
              "      <td>7</td>\n",
              "      <td>5</td>\n",
              "      <td>green</td>\n",
              "      <td>0</td>\n",
              "      <td>899</td>\n",
              "      <td>us</td>\n",
              "      <td>70</td>\n",
              "      <td>1.634000</td>\n",
              "      <td>28.0</td>\n",
              "      <td>mww</td>\n",
              "      <td>171.371</td>\n",
              "      <td>-38.1911</td>\n",
              "      <td>-70.3731</td>\n",
              "      <td>Loncopué, Argentina</td>\n",
              "      <td>South America</td>\n",
              "      <td>Argentina</td>\n",
              "    </tr>\n",
              "    <tr>\n",
              "      <th>3</th>\n",
              "      <td>M 7.2 - 98 km S of Sand Point, Alaska</td>\n",
              "      <td>7.2</td>\n",
              "      <td>16-07-2023 06:48</td>\n",
              "      <td>6</td>\n",
              "      <td>6</td>\n",
              "      <td>green</td>\n",
              "      <td>1</td>\n",
              "      <td>860</td>\n",
              "      <td>us</td>\n",
              "      <td>173</td>\n",
              "      <td>0.907000</td>\n",
              "      <td>36.0</td>\n",
              "      <td>mww</td>\n",
              "      <td>32.571</td>\n",
              "      <td>54.3844</td>\n",
              "      <td>-160.6990</td>\n",
              "      <td>Sand Point, Alaska</td>\n",
              "      <td>NaN</td>\n",
              "      <td>NaN</td>\n",
              "    </tr>\n",
              "    <tr>\n",
              "      <th>4</th>\n",
              "      <td>M 7.3 - Alaska Peninsula</td>\n",
              "      <td>7.3</td>\n",
              "      <td>16-07-2023 06:48</td>\n",
              "      <td>0</td>\n",
              "      <td>5</td>\n",
              "      <td>NaN</td>\n",
              "      <td>1</td>\n",
              "      <td>820</td>\n",
              "      <td>at</td>\n",
              "      <td>79</td>\n",
              "      <td>0.879451</td>\n",
              "      <td>172.8</td>\n",
              "      <td>Mi</td>\n",
              "      <td>21.000</td>\n",
              "      <td>54.4900</td>\n",
              "      <td>-160.7960</td>\n",
              "      <td>Alaska Peninsula</td>\n",
              "      <td>NaN</td>\n",
              "      <td>NaN</td>\n",
              "    </tr>\n",
              "    <tr>\n",
              "      <th>...</th>\n",
              "      <td>...</td>\n",
              "      <td>...</td>\n",
              "      <td>...</td>\n",
              "      <td>...</td>\n",
              "      <td>...</td>\n",
              "      <td>...</td>\n",
              "      <td>...</td>\n",
              "      <td>...</td>\n",
              "      <td>...</td>\n",
              "      <td>...</td>\n",
              "      <td>...</td>\n",
              "      <td>...</td>\n",
              "      <td>...</td>\n",
              "      <td>...</td>\n",
              "      <td>...</td>\n",
              "      <td>...</td>\n",
              "      <td>...</td>\n",
              "      <td>...</td>\n",
              "      <td>...</td>\n",
              "    </tr>\n",
              "    <tr>\n",
              "      <th>995</th>\n",
              "      <td>M 7.1 - 85 km S of Tungor, Russia</td>\n",
              "      <td>7.1</td>\n",
              "      <td>27-05-1995 13:03</td>\n",
              "      <td>0</td>\n",
              "      <td>9</td>\n",
              "      <td>NaN</td>\n",
              "      <td>0</td>\n",
              "      <td>776</td>\n",
              "      <td>us</td>\n",
              "      <td>0</td>\n",
              "      <td>0.000000</td>\n",
              "      <td>0.0</td>\n",
              "      <td>mwb</td>\n",
              "      <td>11.000</td>\n",
              "      <td>52.6290</td>\n",
              "      <td>142.8270</td>\n",
              "      <td>Tungor, Russia</td>\n",
              "      <td>Asia</td>\n",
              "      <td>Russia</td>\n",
              "    </tr>\n",
              "    <tr>\n",
              "      <th>996</th>\n",
              "      <td>M 7.7 - 249 km E of Vao, New Caledonia</td>\n",
              "      <td>7.7</td>\n",
              "      <td>16-05-1995 20:12</td>\n",
              "      <td>0</td>\n",
              "      <td>4</td>\n",
              "      <td>NaN</td>\n",
              "      <td>0</td>\n",
              "      <td>912</td>\n",
              "      <td>us</td>\n",
              "      <td>0</td>\n",
              "      <td>0.000000</td>\n",
              "      <td>0.0</td>\n",
              "      <td>mw</td>\n",
              "      <td>20.200</td>\n",
              "      <td>-23.0080</td>\n",
              "      <td>169.9000</td>\n",
              "      <td>Vao, New Caledonia</td>\n",
              "      <td>NaN</td>\n",
              "      <td>NaN</td>\n",
              "    </tr>\n",
              "    <tr>\n",
              "      <th>997</th>\n",
              "      <td>M 6.9 - 27 km NNW of Maubara, Timor Leste</td>\n",
              "      <td>6.9</td>\n",
              "      <td>14-05-1995 11:33</td>\n",
              "      <td>0</td>\n",
              "      <td>6</td>\n",
              "      <td>NaN</td>\n",
              "      <td>0</td>\n",
              "      <td>732</td>\n",
              "      <td>us</td>\n",
              "      <td>0</td>\n",
              "      <td>0.000000</td>\n",
              "      <td>0.0</td>\n",
              "      <td>mw</td>\n",
              "      <td>11.200</td>\n",
              "      <td>-8.3780</td>\n",
              "      <td>125.1270</td>\n",
              "      <td>Maubara, Timor Leste</td>\n",
              "      <td>NaN</td>\n",
              "      <td>Indonesia</td>\n",
              "    </tr>\n",
              "    <tr>\n",
              "      <th>998</th>\n",
              "      <td>M 6.6 - 10 km W of Aianí, Greece</td>\n",
              "      <td>6.6</td>\n",
              "      <td>13-05-1995 08:47</td>\n",
              "      <td>0</td>\n",
              "      <td>9</td>\n",
              "      <td>NaN</td>\n",
              "      <td>0</td>\n",
              "      <td>670</td>\n",
              "      <td>us</td>\n",
              "      <td>0</td>\n",
              "      <td>0.000000</td>\n",
              "      <td>0.0</td>\n",
              "      <td>mw</td>\n",
              "      <td>14.000</td>\n",
              "      <td>40.1490</td>\n",
              "      <td>21.6950</td>\n",
              "      <td>Aianí, Greece</td>\n",
              "      <td>Europe</td>\n",
              "      <td>Greece</td>\n",
              "    </tr>\n",
              "    <tr>\n",
              "      <th>999</th>\n",
              "      <td>M 7.1 - 14 km NE of Cabatuan, Philippines</td>\n",
              "      <td>7.1</td>\n",
              "      <td>05-05-1995 03:53</td>\n",
              "      <td>0</td>\n",
              "      <td>7</td>\n",
              "      <td>NaN</td>\n",
              "      <td>0</td>\n",
              "      <td>776</td>\n",
              "      <td>us</td>\n",
              "      <td>0</td>\n",
              "      <td>0.000000</td>\n",
              "      <td>0.0</td>\n",
              "      <td>mw</td>\n",
              "      <td>16.000</td>\n",
              "      <td>12.6260</td>\n",
              "      <td>125.2970</td>\n",
              "      <td>Cabatuan, Philippines</td>\n",
              "      <td>NaN</td>\n",
              "      <td>Philippines</td>\n",
              "    </tr>\n",
              "  </tbody>\n",
              "</table>\n",
              "<p>1000 rows × 19 columns</p>\n",
              "</div>\n",
              "    <div class=\"colab-df-buttons\">\n",
              "\n",
              "  <div class=\"colab-df-container\">\n",
              "    <button class=\"colab-df-convert\" onclick=\"convertToInteractive('df-4a1e5443-617e-4e28-87df-1e5672deb0be')\"\n",
              "            title=\"Convert this dataframe to an interactive table.\"\n",
              "            style=\"display:none;\">\n",
              "\n",
              "  <svg xmlns=\"http://www.w3.org/2000/svg\" height=\"24px\" viewBox=\"0 -960 960 960\">\n",
              "    <path d=\"M120-120v-720h720v720H120Zm60-500h600v-160H180v160Zm220 220h160v-160H400v160Zm0 220h160v-160H400v160ZM180-400h160v-160H180v160Zm440 0h160v-160H620v160ZM180-180h160v-160H180v160Zm440 0h160v-160H620v160Z\"/>\n",
              "  </svg>\n",
              "    </button>\n",
              "\n",
              "  <style>\n",
              "    .colab-df-container {\n",
              "      display:flex;\n",
              "      gap: 12px;\n",
              "    }\n",
              "\n",
              "    .colab-df-convert {\n",
              "      background-color: #E8F0FE;\n",
              "      border: none;\n",
              "      border-radius: 50%;\n",
              "      cursor: pointer;\n",
              "      display: none;\n",
              "      fill: #1967D2;\n",
              "      height: 32px;\n",
              "      padding: 0 0 0 0;\n",
              "      width: 32px;\n",
              "    }\n",
              "\n",
              "    .colab-df-convert:hover {\n",
              "      background-color: #E2EBFA;\n",
              "      box-shadow: 0px 1px 2px rgba(60, 64, 67, 0.3), 0px 1px 3px 1px rgba(60, 64, 67, 0.15);\n",
              "      fill: #174EA6;\n",
              "    }\n",
              "\n",
              "    .colab-df-buttons div {\n",
              "      margin-bottom: 4px;\n",
              "    }\n",
              "\n",
              "    [theme=dark] .colab-df-convert {\n",
              "      background-color: #3B4455;\n",
              "      fill: #D2E3FC;\n",
              "    }\n",
              "\n",
              "    [theme=dark] .colab-df-convert:hover {\n",
              "      background-color: #434B5C;\n",
              "      box-shadow: 0px 1px 3px 1px rgba(0, 0, 0, 0.15);\n",
              "      filter: drop-shadow(0px 1px 2px rgba(0, 0, 0, 0.3));\n",
              "      fill: #FFFFFF;\n",
              "    }\n",
              "  </style>\n",
              "\n",
              "    <script>\n",
              "      const buttonEl =\n",
              "        document.querySelector('#df-4a1e5443-617e-4e28-87df-1e5672deb0be button.colab-df-convert');\n",
              "      buttonEl.style.display =\n",
              "        google.colab.kernel.accessAllowed ? 'block' : 'none';\n",
              "\n",
              "      async function convertToInteractive(key) {\n",
              "        const element = document.querySelector('#df-4a1e5443-617e-4e28-87df-1e5672deb0be');\n",
              "        const dataTable =\n",
              "          await google.colab.kernel.invokeFunction('convertToInteractive',\n",
              "                                                    [key], {});\n",
              "        if (!dataTable) return;\n",
              "\n",
              "        const docLinkHtml = 'Like what you see? Visit the ' +\n",
              "          '<a target=\"_blank\" href=https://colab.research.google.com/notebooks/data_table.ipynb>data table notebook</a>'\n",
              "          + ' to learn more about interactive tables.';\n",
              "        element.innerHTML = '';\n",
              "        dataTable['output_type'] = 'display_data';\n",
              "        await google.colab.output.renderOutput(dataTable, element);\n",
              "        const docLink = document.createElement('div');\n",
              "        docLink.innerHTML = docLinkHtml;\n",
              "        element.appendChild(docLink);\n",
              "      }\n",
              "    </script>\n",
              "  </div>\n",
              "\n",
              "\n",
              "<div id=\"df-6eb3c3c4-b84d-4d59-92b8-0f9728ada2f8\">\n",
              "  <button class=\"colab-df-quickchart\" onclick=\"quickchart('df-6eb3c3c4-b84d-4d59-92b8-0f9728ada2f8')\"\n",
              "            title=\"Suggest charts\"\n",
              "            style=\"display:none;\">\n",
              "\n",
              "<svg xmlns=\"http://www.w3.org/2000/svg\" height=\"24px\"viewBox=\"0 0 24 24\"\n",
              "     width=\"24px\">\n",
              "    <g>\n",
              "        <path d=\"M19 3H5c-1.1 0-2 .9-2 2v14c0 1.1.9 2 2 2h14c1.1 0 2-.9 2-2V5c0-1.1-.9-2-2-2zM9 17H7v-7h2v7zm4 0h-2V7h2v10zm4 0h-2v-4h2v4z\"/>\n",
              "    </g>\n",
              "</svg>\n",
              "  </button>\n",
              "\n",
              "<style>\n",
              "  .colab-df-quickchart {\n",
              "      --bg-color: #E8F0FE;\n",
              "      --fill-color: #1967D2;\n",
              "      --hover-bg-color: #E2EBFA;\n",
              "      --hover-fill-color: #174EA6;\n",
              "      --disabled-fill-color: #AAA;\n",
              "      --disabled-bg-color: #DDD;\n",
              "  }\n",
              "\n",
              "  [theme=dark] .colab-df-quickchart {\n",
              "      --bg-color: #3B4455;\n",
              "      --fill-color: #D2E3FC;\n",
              "      --hover-bg-color: #434B5C;\n",
              "      --hover-fill-color: #FFFFFF;\n",
              "      --disabled-bg-color: #3B4455;\n",
              "      --disabled-fill-color: #666;\n",
              "  }\n",
              "\n",
              "  .colab-df-quickchart {\n",
              "    background-color: var(--bg-color);\n",
              "    border: none;\n",
              "    border-radius: 50%;\n",
              "    cursor: pointer;\n",
              "    display: none;\n",
              "    fill: var(--fill-color);\n",
              "    height: 32px;\n",
              "    padding: 0;\n",
              "    width: 32px;\n",
              "  }\n",
              "\n",
              "  .colab-df-quickchart:hover {\n",
              "    background-color: var(--hover-bg-color);\n",
              "    box-shadow: 0 1px 2px rgba(60, 64, 67, 0.3), 0 1px 3px 1px rgba(60, 64, 67, 0.15);\n",
              "    fill: var(--button-hover-fill-color);\n",
              "  }\n",
              "\n",
              "  .colab-df-quickchart-complete:disabled,\n",
              "  .colab-df-quickchart-complete:disabled:hover {\n",
              "    background-color: var(--disabled-bg-color);\n",
              "    fill: var(--disabled-fill-color);\n",
              "    box-shadow: none;\n",
              "  }\n",
              "\n",
              "  .colab-df-spinner {\n",
              "    border: 2px solid var(--fill-color);\n",
              "    border-color: transparent;\n",
              "    border-bottom-color: var(--fill-color);\n",
              "    animation:\n",
              "      spin 1s steps(1) infinite;\n",
              "  }\n",
              "\n",
              "  @keyframes spin {\n",
              "    0% {\n",
              "      border-color: transparent;\n",
              "      border-bottom-color: var(--fill-color);\n",
              "      border-left-color: var(--fill-color);\n",
              "    }\n",
              "    20% {\n",
              "      border-color: transparent;\n",
              "      border-left-color: var(--fill-color);\n",
              "      border-top-color: var(--fill-color);\n",
              "    }\n",
              "    30% {\n",
              "      border-color: transparent;\n",
              "      border-left-color: var(--fill-color);\n",
              "      border-top-color: var(--fill-color);\n",
              "      border-right-color: var(--fill-color);\n",
              "    }\n",
              "    40% {\n",
              "      border-color: transparent;\n",
              "      border-right-color: var(--fill-color);\n",
              "      border-top-color: var(--fill-color);\n",
              "    }\n",
              "    60% {\n",
              "      border-color: transparent;\n",
              "      border-right-color: var(--fill-color);\n",
              "    }\n",
              "    80% {\n",
              "      border-color: transparent;\n",
              "      border-right-color: var(--fill-color);\n",
              "      border-bottom-color: var(--fill-color);\n",
              "    }\n",
              "    90% {\n",
              "      border-color: transparent;\n",
              "      border-bottom-color: var(--fill-color);\n",
              "    }\n",
              "  }\n",
              "</style>\n",
              "\n",
              "  <script>\n",
              "    async function quickchart(key) {\n",
              "      const quickchartButtonEl =\n",
              "        document.querySelector('#' + key + ' button');\n",
              "      quickchartButtonEl.disabled = true;  // To prevent multiple clicks.\n",
              "      quickchartButtonEl.classList.add('colab-df-spinner');\n",
              "      try {\n",
              "        const charts = await google.colab.kernel.invokeFunction(\n",
              "            'suggestCharts', [key], {});\n",
              "      } catch (error) {\n",
              "        console.error('Error during call to suggestCharts:', error);\n",
              "      }\n",
              "      quickchartButtonEl.classList.remove('colab-df-spinner');\n",
              "      quickchartButtonEl.classList.add('colab-df-quickchart-complete');\n",
              "    }\n",
              "    (() => {\n",
              "      let quickchartButtonEl =\n",
              "        document.querySelector('#df-6eb3c3c4-b84d-4d59-92b8-0f9728ada2f8 button');\n",
              "      quickchartButtonEl.style.display =\n",
              "        google.colab.kernel.accessAllowed ? 'block' : 'none';\n",
              "    })();\n",
              "  </script>\n",
              "</div>\n",
              "\n",
              "  <div id=\"id_9fed6e3e-8019-468d-a1a5-3ff8b73a357e\">\n",
              "    <style>\n",
              "      .colab-df-generate {\n",
              "        background-color: #E8F0FE;\n",
              "        border: none;\n",
              "        border-radius: 50%;\n",
              "        cursor: pointer;\n",
              "        display: none;\n",
              "        fill: #1967D2;\n",
              "        height: 32px;\n",
              "        padding: 0 0 0 0;\n",
              "        width: 32px;\n",
              "      }\n",
              "\n",
              "      .colab-df-generate:hover {\n",
              "        background-color: #E2EBFA;\n",
              "        box-shadow: 0px 1px 2px rgba(60, 64, 67, 0.3), 0px 1px 3px 1px rgba(60, 64, 67, 0.15);\n",
              "        fill: #174EA6;\n",
              "      }\n",
              "\n",
              "      [theme=dark] .colab-df-generate {\n",
              "        background-color: #3B4455;\n",
              "        fill: #D2E3FC;\n",
              "      }\n",
              "\n",
              "      [theme=dark] .colab-df-generate:hover {\n",
              "        background-color: #434B5C;\n",
              "        box-shadow: 0px 1px 3px 1px rgba(0, 0, 0, 0.15);\n",
              "        filter: drop-shadow(0px 1px 2px rgba(0, 0, 0, 0.3));\n",
              "        fill: #FFFFFF;\n",
              "      }\n",
              "    </style>\n",
              "    <button class=\"colab-df-generate\" onclick=\"generateWithVariable('df')\"\n",
              "            title=\"Generate code using this dataframe.\"\n",
              "            style=\"display:none;\">\n",
              "\n",
              "  <svg xmlns=\"http://www.w3.org/2000/svg\" height=\"24px\"viewBox=\"0 0 24 24\"\n",
              "       width=\"24px\">\n",
              "    <path d=\"M7,19H8.4L18.45,9,17,7.55,7,17.6ZM5,21V16.75L18.45,3.32a2,2,0,0,1,2.83,0l1.4,1.43a1.91,1.91,0,0,1,.58,1.4,1.91,1.91,0,0,1-.58,1.4L9.25,21ZM18.45,9,17,7.55Zm-12,3A5.31,5.31,0,0,0,4.9,8.1,5.31,5.31,0,0,0,1,6.5,5.31,5.31,0,0,0,4.9,4.9,5.31,5.31,0,0,0,6.5,1,5.31,5.31,0,0,0,8.1,4.9,5.31,5.31,0,0,0,12,6.5,5.46,5.46,0,0,0,6.5,12Z\"/>\n",
              "  </svg>\n",
              "    </button>\n",
              "    <script>\n",
              "      (() => {\n",
              "      const buttonEl =\n",
              "        document.querySelector('#id_9fed6e3e-8019-468d-a1a5-3ff8b73a357e button.colab-df-generate');\n",
              "      buttonEl.style.display =\n",
              "        google.colab.kernel.accessAllowed ? 'block' : 'none';\n",
              "\n",
              "      buttonEl.onclick = () => {\n",
              "        google.colab.notebook.generateWithVariable('df');\n",
              "      }\n",
              "      })();\n",
              "    </script>\n",
              "  </div>\n",
              "\n",
              "    </div>\n",
              "  </div>\n"
            ],
            "application/vnd.google.colaboratory.intrinsic+json": {
              "type": "dataframe",
              "variable_name": "df",
              "summary": "{\n  \"name\": \"df\",\n  \"rows\": 1000,\n  \"fields\": [\n    {\n      \"column\": \"title\",\n      \"properties\": {\n        \"dtype\": \"string\",\n        \"num_unique_values\": 984,\n        \"samples\": [\n          \"M 7.8 - 148 km WSW of Sungai Penuh, Indonesia\",\n          \"M 7.3 - 126 km S of Puerto El Triunfo, El Salvador\",\n          \"M 8.2 - 134 km SSW of Kushiro, Japan\"\n        ],\n        \"semantic_type\": \"\",\n        \"description\": \"\"\n      }\n    },\n    {\n      \"column\": \"magnitude\",\n      \"properties\": {\n        \"dtype\": \"number\",\n        \"std\": 0.43814797859986887,\n        \"min\": 6.5,\n        \"max\": 9.1,\n        \"num_unique_values\": 25,\n        \"samples\": [\n          6.7,\n          8.0,\n          6.5\n        ],\n        \"semantic_type\": \"\",\n        \"description\": \"\"\n      }\n    },\n    {\n      \"column\": \"date_time\",\n      \"properties\": {\n        \"dtype\": \"object\",\n        \"num_unique_values\": 990,\n        \"samples\": [\n          \"15-12-2017 16:47\",\n          \"05-05-2015 01:44\",\n          \"11-03-2011 08:19\"\n        ],\n        \"semantic_type\": \"\",\n        \"description\": \"\"\n      }\n    },\n    {\n      \"column\": \"cdi\",\n      \"properties\": {\n        \"dtype\": \"number\",\n        \"std\": 3,\n        \"min\": 0,\n        \"max\": 9,\n        \"num_unique_values\": 10,\n        \"samples\": [\n          1,\n          8,\n          4\n        ],\n        \"semantic_type\": \"\",\n        \"description\": \"\"\n      }\n    },\n    {\n      \"column\": \"mmi\",\n      \"properties\": {\n        \"dtype\": \"number\",\n        \"std\": 1,\n        \"min\": 1,\n        \"max\": 10,\n        \"num_unique_values\": 10,\n        \"samples\": [\n          1,\n          6,\n          3\n        ],\n        \"semantic_type\": \"\",\n        \"description\": \"\"\n      }\n    },\n    {\n      \"column\": \"alert\",\n      \"properties\": {\n        \"dtype\": \"category\",\n        \"num_unique_values\": 4,\n        \"samples\": [\n          \"yellow\",\n          \"red\",\n          \"green\"\n        ],\n        \"semantic_type\": \"\",\n        \"description\": \"\"\n      }\n    },\n    {\n      \"column\": \"tsunami\",\n      \"properties\": {\n        \"dtype\": \"number\",\n        \"std\": 0,\n        \"min\": 0,\n        \"max\": 1,\n        \"num_unique_values\": 2,\n        \"samples\": [\n          1,\n          0\n        ],\n        \"semantic_type\": \"\",\n        \"description\": \"\"\n      }\n    },\n    {\n      \"column\": \"sig\",\n      \"properties\": {\n        \"dtype\": \"number\",\n        \"std\": 301,\n        \"min\": 650,\n        \"max\": 2910,\n        \"num_unique_values\": 356,\n        \"samples\": [\n          951,\n          1043\n        ],\n        \"semantic_type\": \"\",\n        \"description\": \"\"\n      }\n    },\n    {\n      \"column\": \"net\",\n      \"properties\": {\n        \"dtype\": \"category\",\n        \"num_unique_values\": 11,\n        \"samples\": [\n          \"ci\",\n          \"us\"\n        ],\n        \"semantic_type\": \"\",\n        \"description\": \"\"\n      }\n    },\n    {\n      \"column\": \"nst\",\n      \"properties\": {\n        \"dtype\": \"number\",\n        \"std\": 239,\n        \"min\": 0,\n        \"max\": 934,\n        \"num_unique_values\": 345,\n        \"samples\": [\n          481,\n          611\n        ],\n        \"semantic_type\": \"\",\n        \"description\": \"\"\n      }\n    },\n    {\n      \"column\": \"dmin\",\n      \"properties\": {\n        \"dtype\": \"number\",\n        \"std\": 2.073164204113048,\n        \"min\": 0.0,\n        \"max\": 17.654,\n        \"num_unique_values\": 402,\n        \"samples\": [\n          0.281,\n          1.166\n        ],\n        \"semantic_type\": \"\",\n        \"description\": \"\"\n      }\n    },\n    {\n      \"column\": \"gap\",\n      \"properties\": {\n        \"dtype\": \"number\",\n        \"std\": 24.41589475838952,\n        \"min\": 0.0,\n        \"max\": 239.0,\n        \"num_unique_values\": 259,\n        \"samples\": [\n          74.0,\n          19.0\n        ],\n        \"semantic_type\": \"\",\n        \"description\": \"\"\n      }\n    },\n    {\n      \"column\": \"magType\",\n      \"properties\": {\n        \"dtype\": \"category\",\n        \"num_unique_values\": 9,\n        \"samples\": [\n          \"mb\",\n          \"Mi\"\n        ],\n        \"semantic_type\": \"\",\n        \"description\": \"\"\n      }\n    },\n    {\n      \"column\": \"depth\",\n      \"properties\": {\n        \"dtype\": \"number\",\n        \"std\": 130.81258992740658,\n        \"min\": 2.7,\n        \"max\": 670.81,\n        \"num_unique_values\": 401,\n        \"samples\": [\n          28.9,\n          7.8\n        ],\n        \"semantic_type\": \"\",\n        \"description\": \"\"\n      }\n    },\n    {\n      \"column\": \"latitude\",\n      \"properties\": {\n        \"dtype\": \"number\",\n        \"std\": 26.63332016474323,\n        \"min\": -61.8484,\n        \"max\": 71.6312,\n        \"num_unique_values\": 996,\n        \"samples\": [\n          -12.037,\n          28.826\n        ],\n        \"semantic_type\": \"\",\n        \"description\": \"\"\n      }\n    },\n    {\n      \"column\": \"longitude\",\n      \"properties\": {\n        \"dtype\": \"number\",\n        \"std\": 117.47830249586582,\n        \"min\": -179.968,\n        \"max\": 179.662,\n        \"num_unique_values\": 992,\n        \"samples\": [\n          142.754,\n          163.696\n        ],\n        \"semantic_type\": \"\",\n        \"description\": \"\"\n      }\n    },\n    {\n      \"column\": \"location\",\n      \"properties\": {\n        \"dtype\": \"string\",\n        \"num_unique_values\": 502,\n        \"samples\": [\n          \"Hojancha, Costa Rica\",\n          \"Ust\\u2019-Kamchatsk Staryy, Russia\"\n        ],\n        \"semantic_type\": \"\",\n        \"description\": \"\"\n      }\n    },\n    {\n      \"column\": \"continent\",\n      \"properties\": {\n        \"dtype\": \"category\",\n        \"num_unique_values\": 6,\n        \"samples\": [\n          \"South America\",\n          \"Asia\"\n        ],\n        \"semantic_type\": \"\",\n        \"description\": \"\"\n      }\n    },\n    {\n      \"column\": \"country\",\n      \"properties\": {\n        \"dtype\": \"category\",\n        \"num_unique_values\": 56,\n        \"samples\": [\n          \"Vanuatu\",\n          \"Papua New Guinea\"\n        ],\n        \"semantic_type\": \"\",\n        \"description\": \"\"\n      }\n    }\n  ]\n}"
            }
          },
          "metadata": {},
          "execution_count": 3
        }
      ]
    },
    {
      "cell_type": "code",
      "source": [
        "df.isnull().sum()"
      ],
      "metadata": {
        "colab": {
          "base_uri": "https://localhost:8080/"
        },
        "id": "Ch1AuG9IqfPn",
        "outputId": "89f3df77-2fd2-4796-d66b-3f675f7b0695"
      },
      "execution_count": 4,
      "outputs": [
        {
          "output_type": "execute_result",
          "data": {
            "text/plain": [
              "title          0\n",
              "magnitude      0\n",
              "date_time      0\n",
              "cdi            0\n",
              "mmi            0\n",
              "alert        551\n",
              "tsunami        0\n",
              "sig            0\n",
              "net            0\n",
              "nst            0\n",
              "dmin           0\n",
              "gap            0\n",
              "magType        0\n",
              "depth          0\n",
              "latitude       0\n",
              "longitude      0\n",
              "location       6\n",
              "continent    716\n",
              "country      349\n",
              "dtype: int64"
            ]
          },
          "metadata": {},
          "execution_count": 4
        }
      ]
    },
    {
      "cell_type": "code",
      "source": [
        "df.drop(\"location\",axis=1,inplace=True)\n",
        "df.drop(\"title\",axis=1,inplace=True)\n",
        "df.drop(\"date_time\",axis=1,inplace=True)\n",
        "df.drop(\"net\",axis=1,inplace=True)\n",
        "df.drop(\"magType\",axis=1,inplace=True)\n",
        "\n"
      ],
      "metadata": {
        "id": "XYoBzVIVqfSk"
      },
      "execution_count": 5,
      "outputs": []
    },
    {
      "cell_type": "code",
      "source": [
        "df.drop(\"continent\",axis=1,inplace=True)\n",
        "df.drop(\"country\",axis=1,inplace=True)"
      ],
      "metadata": {
        "id": "dLdX_JZtLPmi"
      },
      "execution_count": 8,
      "outputs": []
    },
    {
      "cell_type": "code",
      "source": [
        "df.drop(\"alert\",axis=1,inplace=True)\n"
      ],
      "metadata": {
        "id": "nvK-g5u4LVnl"
      },
      "execution_count": 11,
      "outputs": []
    },
    {
      "cell_type": "code",
      "source": [
        "df.info()"
      ],
      "metadata": {
        "colab": {
          "base_uri": "https://localhost:8080/"
        },
        "id": "2mLTwHIJqfVA",
        "outputId": "f65b8f97-ed2c-4e7c-ffd7-453071e49691"
      },
      "execution_count": 12,
      "outputs": [
        {
          "output_type": "stream",
          "name": "stdout",
          "text": [
            "<class 'pandas.core.frame.DataFrame'>\n",
            "RangeIndex: 1000 entries, 0 to 999\n",
            "Data columns (total 11 columns):\n",
            " #   Column     Non-Null Count  Dtype  \n",
            "---  ------     --------------  -----  \n",
            " 0   magnitude  1000 non-null   float64\n",
            " 1   cdi        1000 non-null   int64  \n",
            " 2   mmi        1000 non-null   int64  \n",
            " 3   tsunami    1000 non-null   int64  \n",
            " 4   sig        1000 non-null   int64  \n",
            " 5   nst        1000 non-null   int64  \n",
            " 6   dmin       1000 non-null   float64\n",
            " 7   gap        1000 non-null   float64\n",
            " 8   depth      1000 non-null   float64\n",
            " 9   latitude   1000 non-null   float64\n",
            " 10  longitude  1000 non-null   float64\n",
            "dtypes: float64(6), int64(5)\n",
            "memory usage: 86.1 KB\n"
          ]
        }
      ]
    },
    {
      "cell_type": "code",
      "source": [
        "df.isnull().sum()"
      ],
      "metadata": {
        "colab": {
          "base_uri": "https://localhost:8080/"
        },
        "id": "CCe_fjSJNEMt",
        "outputId": "b6d20766-4582-4a17-b182-365612058724"
      },
      "execution_count": 16,
      "outputs": [
        {
          "output_type": "execute_result",
          "data": {
            "text/plain": [
              "magnitude    0\n",
              "cdi          0\n",
              "mmi          0\n",
              "tsunami      0\n",
              "sig          0\n",
              "nst          0\n",
              "dmin         0\n",
              "gap          0\n",
              "depth        0\n",
              "latitude     0\n",
              "longitude    0\n",
              "dtype: int64"
            ]
          },
          "metadata": {},
          "execution_count": 16
        }
      ]
    },
    {
      "cell_type": "code",
      "source": [
        "df.head()"
      ],
      "metadata": {
        "colab": {
          "base_uri": "https://localhost:8080/",
          "height": 206
        },
        "id": "5LShB1FnqfX3",
        "outputId": "1400e202-1d1b-4185-caea-27f372872eb3"
      },
      "execution_count": 13,
      "outputs": [
        {
          "output_type": "execute_result",
          "data": {
            "text/plain": [
              "   magnitude  cdi  mmi  tsunami  sig  nst      dmin    gap    depth  latitude  \\\n",
              "0        6.5    7    4        0  657  114  7.177000   25.0  192.955  -13.8814   \n",
              "1        6.5    8    6        0  775   92  0.679000   40.0   69.727   12.8140   \n",
              "2        6.6    7    5        0  899   70  1.634000   28.0  171.371  -38.1911   \n",
              "3        7.2    6    6        1  860  173  0.907000   36.0   32.571   54.3844   \n",
              "4        7.3    0    5        1  820   79  0.879451  172.8   21.000   54.4900   \n",
              "\n",
              "   longitude  \n",
              "0   167.1580  \n",
              "1   -88.1265  \n",
              "2   -70.3731  \n",
              "3  -160.6990  \n",
              "4  -160.7960  "
            ],
            "text/html": [
              "\n",
              "  <div id=\"df-af400b5d-b5fc-4f8d-b728-87c385c0eed7\" class=\"colab-df-container\">\n",
              "    <div>\n",
              "<style scoped>\n",
              "    .dataframe tbody tr th:only-of-type {\n",
              "        vertical-align: middle;\n",
              "    }\n",
              "\n",
              "    .dataframe tbody tr th {\n",
              "        vertical-align: top;\n",
              "    }\n",
              "\n",
              "    .dataframe thead th {\n",
              "        text-align: right;\n",
              "    }\n",
              "</style>\n",
              "<table border=\"1\" class=\"dataframe\">\n",
              "  <thead>\n",
              "    <tr style=\"text-align: right;\">\n",
              "      <th></th>\n",
              "      <th>magnitude</th>\n",
              "      <th>cdi</th>\n",
              "      <th>mmi</th>\n",
              "      <th>tsunami</th>\n",
              "      <th>sig</th>\n",
              "      <th>nst</th>\n",
              "      <th>dmin</th>\n",
              "      <th>gap</th>\n",
              "      <th>depth</th>\n",
              "      <th>latitude</th>\n",
              "      <th>longitude</th>\n",
              "    </tr>\n",
              "  </thead>\n",
              "  <tbody>\n",
              "    <tr>\n",
              "      <th>0</th>\n",
              "      <td>6.5</td>\n",
              "      <td>7</td>\n",
              "      <td>4</td>\n",
              "      <td>0</td>\n",
              "      <td>657</td>\n",
              "      <td>114</td>\n",
              "      <td>7.177000</td>\n",
              "      <td>25.0</td>\n",
              "      <td>192.955</td>\n",
              "      <td>-13.8814</td>\n",
              "      <td>167.1580</td>\n",
              "    </tr>\n",
              "    <tr>\n",
              "      <th>1</th>\n",
              "      <td>6.5</td>\n",
              "      <td>8</td>\n",
              "      <td>6</td>\n",
              "      <td>0</td>\n",
              "      <td>775</td>\n",
              "      <td>92</td>\n",
              "      <td>0.679000</td>\n",
              "      <td>40.0</td>\n",
              "      <td>69.727</td>\n",
              "      <td>12.8140</td>\n",
              "      <td>-88.1265</td>\n",
              "    </tr>\n",
              "    <tr>\n",
              "      <th>2</th>\n",
              "      <td>6.6</td>\n",
              "      <td>7</td>\n",
              "      <td>5</td>\n",
              "      <td>0</td>\n",
              "      <td>899</td>\n",
              "      <td>70</td>\n",
              "      <td>1.634000</td>\n",
              "      <td>28.0</td>\n",
              "      <td>171.371</td>\n",
              "      <td>-38.1911</td>\n",
              "      <td>-70.3731</td>\n",
              "    </tr>\n",
              "    <tr>\n",
              "      <th>3</th>\n",
              "      <td>7.2</td>\n",
              "      <td>6</td>\n",
              "      <td>6</td>\n",
              "      <td>1</td>\n",
              "      <td>860</td>\n",
              "      <td>173</td>\n",
              "      <td>0.907000</td>\n",
              "      <td>36.0</td>\n",
              "      <td>32.571</td>\n",
              "      <td>54.3844</td>\n",
              "      <td>-160.6990</td>\n",
              "    </tr>\n",
              "    <tr>\n",
              "      <th>4</th>\n",
              "      <td>7.3</td>\n",
              "      <td>0</td>\n",
              "      <td>5</td>\n",
              "      <td>1</td>\n",
              "      <td>820</td>\n",
              "      <td>79</td>\n",
              "      <td>0.879451</td>\n",
              "      <td>172.8</td>\n",
              "      <td>21.000</td>\n",
              "      <td>54.4900</td>\n",
              "      <td>-160.7960</td>\n",
              "    </tr>\n",
              "  </tbody>\n",
              "</table>\n",
              "</div>\n",
              "    <div class=\"colab-df-buttons\">\n",
              "\n",
              "  <div class=\"colab-df-container\">\n",
              "    <button class=\"colab-df-convert\" onclick=\"convertToInteractive('df-af400b5d-b5fc-4f8d-b728-87c385c0eed7')\"\n",
              "            title=\"Convert this dataframe to an interactive table.\"\n",
              "            style=\"display:none;\">\n",
              "\n",
              "  <svg xmlns=\"http://www.w3.org/2000/svg\" height=\"24px\" viewBox=\"0 -960 960 960\">\n",
              "    <path d=\"M120-120v-720h720v720H120Zm60-500h600v-160H180v160Zm220 220h160v-160H400v160Zm0 220h160v-160H400v160ZM180-400h160v-160H180v160Zm440 0h160v-160H620v160ZM180-180h160v-160H180v160Zm440 0h160v-160H620v160Z\"/>\n",
              "  </svg>\n",
              "    </button>\n",
              "\n",
              "  <style>\n",
              "    .colab-df-container {\n",
              "      display:flex;\n",
              "      gap: 12px;\n",
              "    }\n",
              "\n",
              "    .colab-df-convert {\n",
              "      background-color: #E8F0FE;\n",
              "      border: none;\n",
              "      border-radius: 50%;\n",
              "      cursor: pointer;\n",
              "      display: none;\n",
              "      fill: #1967D2;\n",
              "      height: 32px;\n",
              "      padding: 0 0 0 0;\n",
              "      width: 32px;\n",
              "    }\n",
              "\n",
              "    .colab-df-convert:hover {\n",
              "      background-color: #E2EBFA;\n",
              "      box-shadow: 0px 1px 2px rgba(60, 64, 67, 0.3), 0px 1px 3px 1px rgba(60, 64, 67, 0.15);\n",
              "      fill: #174EA6;\n",
              "    }\n",
              "\n",
              "    .colab-df-buttons div {\n",
              "      margin-bottom: 4px;\n",
              "    }\n",
              "\n",
              "    [theme=dark] .colab-df-convert {\n",
              "      background-color: #3B4455;\n",
              "      fill: #D2E3FC;\n",
              "    }\n",
              "\n",
              "    [theme=dark] .colab-df-convert:hover {\n",
              "      background-color: #434B5C;\n",
              "      box-shadow: 0px 1px 3px 1px rgba(0, 0, 0, 0.15);\n",
              "      filter: drop-shadow(0px 1px 2px rgba(0, 0, 0, 0.3));\n",
              "      fill: #FFFFFF;\n",
              "    }\n",
              "  </style>\n",
              "\n",
              "    <script>\n",
              "      const buttonEl =\n",
              "        document.querySelector('#df-af400b5d-b5fc-4f8d-b728-87c385c0eed7 button.colab-df-convert');\n",
              "      buttonEl.style.display =\n",
              "        google.colab.kernel.accessAllowed ? 'block' : 'none';\n",
              "\n",
              "      async function convertToInteractive(key) {\n",
              "        const element = document.querySelector('#df-af400b5d-b5fc-4f8d-b728-87c385c0eed7');\n",
              "        const dataTable =\n",
              "          await google.colab.kernel.invokeFunction('convertToInteractive',\n",
              "                                                    [key], {});\n",
              "        if (!dataTable) return;\n",
              "\n",
              "        const docLinkHtml = 'Like what you see? Visit the ' +\n",
              "          '<a target=\"_blank\" href=https://colab.research.google.com/notebooks/data_table.ipynb>data table notebook</a>'\n",
              "          + ' to learn more about interactive tables.';\n",
              "        element.innerHTML = '';\n",
              "        dataTable['output_type'] = 'display_data';\n",
              "        await google.colab.output.renderOutput(dataTable, element);\n",
              "        const docLink = document.createElement('div');\n",
              "        docLink.innerHTML = docLinkHtml;\n",
              "        element.appendChild(docLink);\n",
              "      }\n",
              "    </script>\n",
              "  </div>\n",
              "\n",
              "\n",
              "<div id=\"df-7d82df00-e300-4996-9e2d-b99b13c79917\">\n",
              "  <button class=\"colab-df-quickchart\" onclick=\"quickchart('df-7d82df00-e300-4996-9e2d-b99b13c79917')\"\n",
              "            title=\"Suggest charts\"\n",
              "            style=\"display:none;\">\n",
              "\n",
              "<svg xmlns=\"http://www.w3.org/2000/svg\" height=\"24px\"viewBox=\"0 0 24 24\"\n",
              "     width=\"24px\">\n",
              "    <g>\n",
              "        <path d=\"M19 3H5c-1.1 0-2 .9-2 2v14c0 1.1.9 2 2 2h14c1.1 0 2-.9 2-2V5c0-1.1-.9-2-2-2zM9 17H7v-7h2v7zm4 0h-2V7h2v10zm4 0h-2v-4h2v4z\"/>\n",
              "    </g>\n",
              "</svg>\n",
              "  </button>\n",
              "\n",
              "<style>\n",
              "  .colab-df-quickchart {\n",
              "      --bg-color: #E8F0FE;\n",
              "      --fill-color: #1967D2;\n",
              "      --hover-bg-color: #E2EBFA;\n",
              "      --hover-fill-color: #174EA6;\n",
              "      --disabled-fill-color: #AAA;\n",
              "      --disabled-bg-color: #DDD;\n",
              "  }\n",
              "\n",
              "  [theme=dark] .colab-df-quickchart {\n",
              "      --bg-color: #3B4455;\n",
              "      --fill-color: #D2E3FC;\n",
              "      --hover-bg-color: #434B5C;\n",
              "      --hover-fill-color: #FFFFFF;\n",
              "      --disabled-bg-color: #3B4455;\n",
              "      --disabled-fill-color: #666;\n",
              "  }\n",
              "\n",
              "  .colab-df-quickchart {\n",
              "    background-color: var(--bg-color);\n",
              "    border: none;\n",
              "    border-radius: 50%;\n",
              "    cursor: pointer;\n",
              "    display: none;\n",
              "    fill: var(--fill-color);\n",
              "    height: 32px;\n",
              "    padding: 0;\n",
              "    width: 32px;\n",
              "  }\n",
              "\n",
              "  .colab-df-quickchart:hover {\n",
              "    background-color: var(--hover-bg-color);\n",
              "    box-shadow: 0 1px 2px rgba(60, 64, 67, 0.3), 0 1px 3px 1px rgba(60, 64, 67, 0.15);\n",
              "    fill: var(--button-hover-fill-color);\n",
              "  }\n",
              "\n",
              "  .colab-df-quickchart-complete:disabled,\n",
              "  .colab-df-quickchart-complete:disabled:hover {\n",
              "    background-color: var(--disabled-bg-color);\n",
              "    fill: var(--disabled-fill-color);\n",
              "    box-shadow: none;\n",
              "  }\n",
              "\n",
              "  .colab-df-spinner {\n",
              "    border: 2px solid var(--fill-color);\n",
              "    border-color: transparent;\n",
              "    border-bottom-color: var(--fill-color);\n",
              "    animation:\n",
              "      spin 1s steps(1) infinite;\n",
              "  }\n",
              "\n",
              "  @keyframes spin {\n",
              "    0% {\n",
              "      border-color: transparent;\n",
              "      border-bottom-color: var(--fill-color);\n",
              "      border-left-color: var(--fill-color);\n",
              "    }\n",
              "    20% {\n",
              "      border-color: transparent;\n",
              "      border-left-color: var(--fill-color);\n",
              "      border-top-color: var(--fill-color);\n",
              "    }\n",
              "    30% {\n",
              "      border-color: transparent;\n",
              "      border-left-color: var(--fill-color);\n",
              "      border-top-color: var(--fill-color);\n",
              "      border-right-color: var(--fill-color);\n",
              "    }\n",
              "    40% {\n",
              "      border-color: transparent;\n",
              "      border-right-color: var(--fill-color);\n",
              "      border-top-color: var(--fill-color);\n",
              "    }\n",
              "    60% {\n",
              "      border-color: transparent;\n",
              "      border-right-color: var(--fill-color);\n",
              "    }\n",
              "    80% {\n",
              "      border-color: transparent;\n",
              "      border-right-color: var(--fill-color);\n",
              "      border-bottom-color: var(--fill-color);\n",
              "    }\n",
              "    90% {\n",
              "      border-color: transparent;\n",
              "      border-bottom-color: var(--fill-color);\n",
              "    }\n",
              "  }\n",
              "</style>\n",
              "\n",
              "  <script>\n",
              "    async function quickchart(key) {\n",
              "      const quickchartButtonEl =\n",
              "        document.querySelector('#' + key + ' button');\n",
              "      quickchartButtonEl.disabled = true;  // To prevent multiple clicks.\n",
              "      quickchartButtonEl.classList.add('colab-df-spinner');\n",
              "      try {\n",
              "        const charts = await google.colab.kernel.invokeFunction(\n",
              "            'suggestCharts', [key], {});\n",
              "      } catch (error) {\n",
              "        console.error('Error during call to suggestCharts:', error);\n",
              "      }\n",
              "      quickchartButtonEl.classList.remove('colab-df-spinner');\n",
              "      quickchartButtonEl.classList.add('colab-df-quickchart-complete');\n",
              "    }\n",
              "    (() => {\n",
              "      let quickchartButtonEl =\n",
              "        document.querySelector('#df-7d82df00-e300-4996-9e2d-b99b13c79917 button');\n",
              "      quickchartButtonEl.style.display =\n",
              "        google.colab.kernel.accessAllowed ? 'block' : 'none';\n",
              "    })();\n",
              "  </script>\n",
              "</div>\n",
              "\n",
              "    </div>\n",
              "  </div>\n"
            ],
            "application/vnd.google.colaboratory.intrinsic+json": {
              "type": "dataframe",
              "variable_name": "df",
              "summary": "{\n  \"name\": \"df\",\n  \"rows\": 1000,\n  \"fields\": [\n    {\n      \"column\": \"magnitude\",\n      \"properties\": {\n        \"dtype\": \"number\",\n        \"std\": 0.43814797859986887,\n        \"min\": 6.5,\n        \"max\": 9.1,\n        \"num_unique_values\": 25,\n        \"samples\": [\n          6.7,\n          8.0,\n          6.5\n        ],\n        \"semantic_type\": \"\",\n        \"description\": \"\"\n      }\n    },\n    {\n      \"column\": \"cdi\",\n      \"properties\": {\n        \"dtype\": \"number\",\n        \"std\": 3,\n        \"min\": 0,\n        \"max\": 9,\n        \"num_unique_values\": 10,\n        \"samples\": [\n          1,\n          8,\n          4\n        ],\n        \"semantic_type\": \"\",\n        \"description\": \"\"\n      }\n    },\n    {\n      \"column\": \"mmi\",\n      \"properties\": {\n        \"dtype\": \"number\",\n        \"std\": 1,\n        \"min\": 1,\n        \"max\": 10,\n        \"num_unique_values\": 10,\n        \"samples\": [\n          1,\n          6,\n          3\n        ],\n        \"semantic_type\": \"\",\n        \"description\": \"\"\n      }\n    },\n    {\n      \"column\": \"tsunami\",\n      \"properties\": {\n        \"dtype\": \"number\",\n        \"std\": 0,\n        \"min\": 0,\n        \"max\": 1,\n        \"num_unique_values\": 2,\n        \"samples\": [\n          1,\n          0\n        ],\n        \"semantic_type\": \"\",\n        \"description\": \"\"\n      }\n    },\n    {\n      \"column\": \"sig\",\n      \"properties\": {\n        \"dtype\": \"number\",\n        \"std\": 301,\n        \"min\": 650,\n        \"max\": 2910,\n        \"num_unique_values\": 356,\n        \"samples\": [\n          951,\n          1043\n        ],\n        \"semantic_type\": \"\",\n        \"description\": \"\"\n      }\n    },\n    {\n      \"column\": \"nst\",\n      \"properties\": {\n        \"dtype\": \"number\",\n        \"std\": 239,\n        \"min\": 0,\n        \"max\": 934,\n        \"num_unique_values\": 345,\n        \"samples\": [\n          481,\n          611\n        ],\n        \"semantic_type\": \"\",\n        \"description\": \"\"\n      }\n    },\n    {\n      \"column\": \"dmin\",\n      \"properties\": {\n        \"dtype\": \"number\",\n        \"std\": 2.073164204113048,\n        \"min\": 0.0,\n        \"max\": 17.654,\n        \"num_unique_values\": 402,\n        \"samples\": [\n          0.281,\n          1.166\n        ],\n        \"semantic_type\": \"\",\n        \"description\": \"\"\n      }\n    },\n    {\n      \"column\": \"gap\",\n      \"properties\": {\n        \"dtype\": \"number\",\n        \"std\": 24.41589475838952,\n        \"min\": 0.0,\n        \"max\": 239.0,\n        \"num_unique_values\": 259,\n        \"samples\": [\n          74.0,\n          19.0\n        ],\n        \"semantic_type\": \"\",\n        \"description\": \"\"\n      }\n    },\n    {\n      \"column\": \"depth\",\n      \"properties\": {\n        \"dtype\": \"number\",\n        \"std\": 130.81258992740658,\n        \"min\": 2.7,\n        \"max\": 670.81,\n        \"num_unique_values\": 401,\n        \"samples\": [\n          28.9,\n          7.8\n        ],\n        \"semantic_type\": \"\",\n        \"description\": \"\"\n      }\n    },\n    {\n      \"column\": \"latitude\",\n      \"properties\": {\n        \"dtype\": \"number\",\n        \"std\": 26.63332016474323,\n        \"min\": -61.8484,\n        \"max\": 71.6312,\n        \"num_unique_values\": 996,\n        \"samples\": [\n          -12.037,\n          28.826\n        ],\n        \"semantic_type\": \"\",\n        \"description\": \"\"\n      }\n    },\n    {\n      \"column\": \"longitude\",\n      \"properties\": {\n        \"dtype\": \"number\",\n        \"std\": 117.47830249586582,\n        \"min\": -179.968,\n        \"max\": 179.662,\n        \"num_unique_values\": 992,\n        \"samples\": [\n          142.754,\n          163.696\n        ],\n        \"semantic_type\": \"\",\n        \"description\": \"\"\n      }\n    }\n  ]\n}"
            }
          },
          "metadata": {},
          "execution_count": 13
        }
      ]
    },
    {
      "cell_type": "code",
      "source": [
        "features=[\"magnitude\",\t\"cdi\"\t,\"mmi\"\t,\t\"sig\"\t,\"nst\"\t,\"dmin\",\t\"gap\"\t,\"depth\"\t,\"latitude\"\t,\"longitude\"]\n",
        "x=df[features]\n",
        "y=df.tsunami\n"
      ],
      "metadata": {
        "id": "i8MAT1oGqfas"
      },
      "execution_count": 14,
      "outputs": []
    },
    {
      "cell_type": "code",
      "source": [
        "df.tsunami.value_counts().plot(kind='bar')"
      ],
      "metadata": {
        "id": "C_mj7zrTqfeI",
        "colab": {
          "base_uri": "https://localhost:8080/",
          "height": 462
        },
        "outputId": "0381e1c1-2395-4142-f49b-809535845e99"
      },
      "execution_count": 17,
      "outputs": [
        {
          "output_type": "execute_result",
          "data": {
            "text/plain": [
              "<Axes: xlabel='tsunami'>"
            ]
          },
          "metadata": {},
          "execution_count": 17
        },
        {
          "output_type": "display_data",
          "data": {
            "text/plain": [
              "<Figure size 640x480 with 1 Axes>"
            ],
            "image/png": "[encoded data removed]"
          },
          "metadata": {}
        }
      ]
    },
    {
      "cell_type": "code",
      "source": [
        "#KNN\n",
        "max_features=3\n",
        "model=KNeighborsClassifier()\n",
        "kfold=model_selection.KFold(n_splits=10)\n",
        "results=model_selection.cross_val_score(model,x,y,cv=kfold)\n",
        "print(\"acuraccy\",round(results.mean()*100,2))"
      ],
      "metadata": {
        "colab": {
          "base_uri": "https://localhost:8080/"
        },
        "id": "9vlm5rr2NQ2C",
        "outputId": "87ff38b2-3159-4a5f-a589-da604c932820"
      },
      "execution_count": 18,
      "outputs": [
        {
          "output_type": "stream",
          "name": "stdout",
          "text": [
            "acuraccy 72.0\n"
          ]
        }
      ]
    },
    {
      "cell_type": "code",
      "source": [
        "#DECISION TREE\n",
        "max_features=3\n",
        "kfold=model_selection.KFold(n_splits=10)\n",
        "model=DecisionTreeClassifier(criterion='gini')\n",
        "results=model_selection.cross_val_score(model,x,y,cv=kfold)\n",
        "print(\"acuraccy\",round(results.mean()*100,2))"
      ],
      "metadata": {
        "colab": {
          "base_uri": "https://localhost:8080/"
        },
        "id": "zYwjCeEXNQ41",
        "outputId": "201d997a-fd2b-4ac5-f329-1541dac930d2"
      },
      "execution_count": 19,
      "outputs": [
        {
          "output_type": "stream",
          "name": "stdout",
          "text": [
            "acuraccy 86.3\n"
          ]
        }
      ]
    },
    {
      "cell_type": "markdown",
      "source": [
        "CONCEPT OF BAGGING"
      ],
      "metadata": {
        "id": "vuFQ1HxxNhYn"
      }
    },
    {
      "cell_type": "code",
      "source": [
        "\n",
        "kfold = model_selection.KFold(n_splits=10)\n",
        "cart = DecisionTreeClassifier()\n",
        "num_trees = 100\n",
        "model = BaggingClassifier(estimator=cart, n_estimators=num_trees)\n",
        "results = model_selection.cross_val_score(model, x, y, cv=kfold)\n",
        "print(\"Accuracy for BaggingClassifier:\", round(results.mean()*100, 2)) #80%"
      ],
      "metadata": {
        "colab": {
          "base_uri": "https://localhost:8080/"
        },
        "id": "jmUPPsLYNQ7Z",
        "outputId": "56dee5b3-5a38-4f45-da6e-3bcb59eb0eaf"
      },
      "execution_count": 20,
      "outputs": [
        {
          "output_type": "stream",
          "name": "stdout",
          "text": [
            "Accuracy for BaggingClassifier: 89.1\n"
          ]
        }
      ]
    },
    {
      "cell_type": "code",
      "source": [
        "from sklearn.ensemble import RandomForestClassifier\n",
        "\n",
        "kfolds=model_selection.KFold(10)\n",
        "num_trees=200\n",
        "model=RandomForestClassifier(n_estimators=num_trees)\n",
        "results=model_selection.cross_val_score(model,x,y,cv=kfolds)\n",
        "print(\"acuraccy\",round(results.mean()*100,2))"
      ],
      "metadata": {
        "colab": {
          "base_uri": "https://localhost:8080/"
        },
        "id": "zRJdNr2WNQ-X",
        "outputId": "6c5ab8b2-c529-485e-a5a9-9cabe849ef87"
      },
      "execution_count": 21,
      "outputs": [
        {
          "output_type": "stream",
          "name": "stdout",
          "text": [
            "acuraccy 90.4\n"
          ]
        }
      ]
    },
    {
      "cell_type": "code",
      "source": [
        "from sklearn.ensemble import ExtraTreesClassifier\n",
        "\n",
        "seed = 7\n",
        "num_trees = 500\n",
        "kfold = model_selection.KFold(n_splits=10)\n",
        "model = ExtraTreesClassifier(n_estimators=num_trees)\n",
        "results = model_selection.cross_val_score(model, x, y, cv=kfold)\n",
        "print(\"Accuracy for ExtraTreesClassifier:\", round(results.mean()*100, 2)) #78.5"
      ],
      "metadata": {
        "colab": {
          "base_uri": "https://localhost:8080/"
        },
        "id": "9xXBRkUINRA3",
        "outputId": "465db151-0cb2-48c3-c454-176f356612f2"
      },
      "execution_count": 22,
      "outputs": [
        {
          "output_type": "stream",
          "name": "stdout",
          "text": [
            "Accuracy for ExtraTreesClassifier: 88.4\n"
          ]
        }
      ]
    },
    {
      "cell_type": "markdown",
      "source": [
        "CONCEPT OF BOOSTING"
      ],
      "metadata": {
        "id": "mnvoy2XGN5bD"
      }
    },
    {
      "cell_type": "code",
      "source": [
        "from sklearn.ensemble import AdaBoostClassifier\n",
        "num_trees = 500\n",
        "kfold = model_selection.KFold(n_splits=10)\n",
        "model = AdaBoostClassifier(n_estimators=num_trees)\n",
        "results = model_selection.cross_val_score(model, x, y, cv=kfold)\n",
        "print(\"Accuracy for AdaBoostClassifier:\", round(results.mean()*100, 2))"
      ],
      "metadata": {
        "colab": {
          "base_uri": "https://localhost:8080/"
        },
        "id": "6x9wPsxlNRDW",
        "outputId": "379f1283-fbce-46bd-fb06-bfe7d877e590"
      },
      "execution_count": 23,
      "outputs": [
        {
          "output_type": "stream",
          "name": "stdout",
          "text": [
            "Accuracy for AdaBoostClassifier: 86.6\n"
          ]
        }
      ]
    },
    {
      "cell_type": "code",
      "source": [
        "from sklearn.ensemble import GradientBoostingClassifier\n",
        "\n",
        "\n",
        "num_trees = 500\n",
        "kfold = model_selection.KFold(n_splits=10)\n",
        "model = GradientBoostingClassifier(n_estimators=num_trees)\n",
        "results = model_selection.cross_val_score(model, x, y, cv=kfold)\n",
        "print(\"Accuracy for GradientBoostingClassifier:\", round(results.mean()*100, 2))"
      ],
      "metadata": {
        "colab": {
          "base_uri": "https://localhost:8080/"
        },
        "id": "LV-tp6B2NRGF",
        "outputId": "84ce0574-e35e-458f-f3e1-6a2ed0e199e0"
      },
      "execution_count": 24,
      "outputs": [
        {
          "output_type": "stream",
          "name": "stdout",
          "text": [
            "Accuracy for GradientBoostingClassifier: 88.7\n"
          ]
        }
      ]
    },
    {
      "cell_type": "code",
      "source": [
        "import xgboost as xgb\n",
        "\n",
        "\n",
        "num_trees = 500\n",
        "kfold = model_selection.KFold(n_splits=10)\n",
        "model = xgb.XGBClassifier(n_estimators=num_trees)\n",
        "results = model_selection.cross_val_score(model, x, y, cv=kfold)\n",
        "print(\"Accuracy for XGBoost:\", round(results.mean()*100, 2))"
      ],
      "metadata": {
        "colab": {
          "base_uri": "https://localhost:8080/"
        },
        "id": "IVB-abrqOEs5",
        "outputId": "4933fff9-6030-49f4-fcff-c0f9616b3e96"
      },
      "execution_count": 25,
      "outputs": [
        {
          "output_type": "stream",
          "name": "stdout",
          "text": [
            "Accuracy for XGBoost: 89.6\n"
          ]
        }
      ]
    },
    {
      "cell_type": "markdown",
      "source": [
        "CONCEPT OF VOTING CLASSIFIER"
      ],
      "metadata": {
        "id": "ERz5p1dbONzd"
      }
    },
    {
      "cell_type": "code",
      "source": [
        "from sklearn import model_selection\n",
        "from sklearn.linear_model import LogisticRegression\n",
        "from sklearn.tree import DecisionTreeClassifier\n",
        "from sklearn.svm import SVC\n",
        "from sklearn.ensemble import VotingClassifier\n",
        "\n",
        "kfold=model_selection.KFold(n_splits=10)\n",
        "\n",
        "estimators=[]\n",
        "\n",
        "model1=LogisticRegression(solver='lbfgs', max_iter=10000)\n",
        "estimators.append(('logistic',model1))\n",
        "\n",
        "model2=SVC()\n",
        "estimators.append(('SVC',model2))\n",
        "\n",
        "model3=DecisionTreeClassifier()\n",
        "estimators.append(('DecisionTreeClassifier',model3))\n",
        "\n",
        "ensemble=VotingClassifier(estimators)\n",
        "\n",
        "results = model_selection.cross_val_score(ensemble, x, y, cv=kfold)\n",
        "print(\"Accuracy for VotingClassifier:\", round(results.mean()*100, 2))"
      ],
      "metadata": {
        "colab": {
          "base_uri": "https://localhost:8080/"
        },
        "id": "lo0ETETxOEvt",
        "outputId": "0505cd3d-5eee-4b3f-a829-93f633db6e3c"
      },
      "execution_count": 27,
      "outputs": [
        {
          "output_type": "stream",
          "name": "stdout",
          "text": [
            "Accuracy for VotingClassifier: 83.8\n"
          ]
        }
      ]
    },
    {
      "cell_type": "code",
      "source": [
        "from sklearn import model_selection\n",
        "from sklearn.linear_model import LogisticRegression\n",
        "from sklearn.tree import DecisionTreeClassifier\n",
        "from sklearn.svm import SVC\n",
        "from sklearn.ensemble import VotingClassifier\n",
        "import xgboost as xgb\n",
        "from sklearn.ensemble import RandomForestClassifier\n",
        "from sklearn.ensemble import BaggingClassifier\n",
        "\n",
        "kfold=model_selection.KFold(n_splits=10)\n",
        "\n",
        "estimators=[]\n",
        "num_tress=500\n",
        "model1=RandomForestClassifier(n_estimators=num_trees)\n",
        "estimators.append(('RFC',model1))\n",
        "\n",
        "model2=xgb.XGBClassifier(n_estimators=num_trees)\n",
        "estimators.append(('XGB',model2))\n",
        "\n",
        "cart=DecisionTreeClassifier()\n",
        "model3=BaggingClassifier(n_estimators=num_trees,estimator=cart)\n",
        "estimators.append(('BaggedDecisionTreeClassifier',model3))\n",
        "\n",
        "ensemble=VotingClassifier(estimators)\n",
        "\n",
        "results = model_selection.cross_val_score(ensemble, x, y, cv=kfold)\n",
        "print(\"Accuracy for VotingClassifier:\", round(results.mean()*100, 2))"
      ],
      "metadata": {
        "colab": {
          "base_uri": "https://localhost:8080/"
        },
        "id": "gvUvXn7wOEzb",
        "outputId": "a64038bd-1125-447b-df47-d70933871d92"
      },
      "execution_count": 30,
      "outputs": [
        {
          "output_type": "stream",
          "name": "stdout",
          "text": [
            "Accuracy for VotingClassifier: 90.5\n"
          ]
        }
      ]
    },
    {
      "cell_type": "code",
      "source": [
        "from sklearn import model_selection\n",
        "from sklearn.linear_model import LogisticRegression\n",
        "from sklearn.tree import DecisionTreeClassifier\n",
        "from sklearn.svm import SVC\n",
        "from sklearn.ensemble import VotingClassifier\n",
        "import xgboost as xgb\n",
        "from sklearn.ensemble import RandomForestClassifier\n",
        "from sklearn.ensemble import BaggingClassifier\n",
        "\n",
        "kfold=model_selection.KFold(n_splits=10)\n",
        "\n",
        "estimators=[]\n",
        "num_tress=500\n",
        "model1=RandomForestClassifier(n_estimators=num_trees)\n",
        "estimators.append(('RFC',model1))\n",
        "\n",
        "model2=xgb.XGBClassifier(n_estimators=num_trees)\n",
        "estimators.append(('XGB',model2))\n",
        "\n",
        "\n",
        "\n",
        "ensemble=VotingClassifier(estimators)\n",
        "\n",
        "results = model_selection.cross_val_score(ensemble, x, y, cv=kfold)\n",
        "print(\"Accuracy for VotingClassifier:\", round(results.mean()*100, 2))"
      ],
      "metadata": {
        "colab": {
          "base_uri": "https://localhost:8080/"
        },
        "id": "sb6wZe-mOE2w",
        "outputId": "ca3b4b0e-6f49-4320-91a0-49eb65f2b64c"
      },
      "execution_count": 32,
      "outputs": [
        {
          "output_type": "stream",
          "name": "stdout",
          "text": [
            "Accuracy for VotingClassifier: 90.3\n"
          ]
        }
      ]
    },
    {
      "cell_type": "code",
      "source": [],
      "metadata": {
        "id": "wSxCrE9mOE57"
      },
      "execution_count": null,
      "outputs": []
    },
    {
      "cell_type": "code",
      "source": [],
      "metadata": {
        "id": "Eq6kSxrUOE8_"
      },
      "execution_count": null,
      "outputs": []
    },
    {
      "cell_type": "code",
      "source": [],
      "metadata": {
        "id": "-OpEZyWcNRJl"
      },
      "execution_count": null,
      "outputs": []
    }
  ]
}